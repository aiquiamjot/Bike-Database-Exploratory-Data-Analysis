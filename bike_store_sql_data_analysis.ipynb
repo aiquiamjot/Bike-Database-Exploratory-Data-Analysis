{
 "cells": [
  {
   "cell_type": "code",
   "execution_count": 1,
   "id": "24ac67e8-8846-4a0b-a731-dce919b20c80",
   "metadata": {},
   "outputs": [],
   "source": [
    "import numpy as np\n",
    "import duckdb"
   ]
  },
  {
   "cell_type": "code",
   "execution_count": 2,
   "id": "dd831ad7-d579-43ac-a786-ff22e7bd0752",
   "metadata": {},
   "outputs": [],
   "source": [
    "duckdb.sql(\"CREATE TABLE brands AS SELECT * FROM 'bike_store_sample_database/brands.csv'\")\n",
    "duckdb.sql(\"CREATE TABLE categories AS SELECT * FROM 'bike_store_sample_database/categories.csv'\")\n",
    "duckdb.sql(\"CREATE TABLE customers AS SELECT * FROM 'bike_store_sample_database/customers.csv'\")\n",
    "duckdb.sql(\"CREATE TABLE order_items AS SELECT * FROM 'bike_store_sample_database/order_items.csv'\")\n",
    "duckdb.sql(\"CREATE TABLE orders AS SELECT * FROM 'bike_store_sample_database/orders.csv'\")\n",
    "duckdb.sql(\"CREATE TABLE products AS SELECT * FROM 'bike_store_sample_database/products.csv'\")\n",
    "duckdb.sql(\"CREATE TABLE staffs AS SELECT * FROM 'bike_store_sample_database/staffs.csv'\")\n",
    "duckdb.sql(\"CREATE TABLE stocks AS SELECT * FROM 'bike_store_sample_database/stocks.csv'\")\n",
    "duckdb.sql(\"CREATE TABLE stores AS SELECT * FROM 'bike_store_sample_database/stores.csv'\")"
   ]
  },
  {
   "cell_type": "code",
   "execution_count": 3,
   "id": "a7a7e7f7-7c30-4d7d-8dee-414fe60eede5",
   "metadata": {},
   "outputs": [
    {
     "data": {
      "text/plain": [
       "┌─────────────┐\n",
       "│    name     │\n",
       "│   varchar   │\n",
       "├─────────────┤\n",
       "│ brands      │\n",
       "│ categories  │\n",
       "│ customers   │\n",
       "│ order_items │\n",
       "│ orders      │\n",
       "│ products    │\n",
       "│ staffs      │\n",
       "│ stocks      │\n",
       "│ stores      │\n",
       "└─────────────┘"
      ]
     },
     "execution_count": 3,
     "metadata": {},
     "output_type": "execute_result"
    }
   ],
   "source": [
    "duckdb.sql(\"SHOW TABLES\")"
   ]
  },
  {
   "cell_type": "markdown",
   "id": "80b09e87-7450-4901-a0d8-846144088107",
   "metadata": {
    "jp-MarkdownHeadingCollapsed": true
   },
   "source": [
    "### Which brands sold the highest total quantity of products?"
   ]
  },
  {
   "cell_type": "code",
   "execution_count": 4,
   "id": "29084cbf-1e9e-4e63-807b-5c2d641d05e1",
   "metadata": {},
   "outputs": [
    {
     "data": {
      "text/plain": [
       "┌──────────────┬──────────────────────┐\n",
       "│  brand_name  │ total_quantity_sales │\n",
       "│   varchar    │        int128        │\n",
       "├──────────────┼──────────────────────┤\n",
       "│ Electra      │                 2612 │\n",
       "│ Trek         │                 1839 │\n",
       "│ Surly        │                  908 │\n",
       "│ Sun Bicycles │                  731 │\n",
       "│ Pure Cycles  │                  376 │\n",
       "│ Haro         │                  331 │\n",
       "│ Heller       │                  138 │\n",
       "│ Ritchey      │                  118 │\n",
       "│ Strider      │                   25 │\n",
       "└──────────────┴──────────────────────┘"
      ]
     },
     "execution_count": 4,
     "metadata": {},
     "output_type": "execute_result"
    }
   ],
   "source": [
    "query1 = '''\n",
    "WITH product_quantities AS (\n",
    "SELECT oi.product_id, \n",
    "\tquantity, \n",
    "    p.brand_id, \n",
    "    brand_name\n",
    "FROM order_items oi\n",
    "JOIN products p\n",
    "\tON oi.product_id = p.product_id\n",
    "JOIN brands b\n",
    "\tON p.brand_id = b.brand_id\n",
    ")\n",
    "SELECT brand_name, \n",
    "\tSUM(quantity) as total_quantity_sales\n",
    "FROM product_quantities\n",
    "GROUP BY brand_name\n",
    "ORDER BY SUM(quantity) DESC\n",
    ";\n",
    "'''\n",
    "\n",
    "duckdb.sql(query1)"
   ]
  },
  {
   "cell_type": "markdown",
   "id": "2e115d4f-b9a2-40e4-8f8f-d341e98e330d",
   "metadata": {
    "jp-MarkdownHeadingCollapsed": true
   },
   "source": [
    "### Which brands generated the highest total revenue?"
   ]
  },
  {
   "cell_type": "code",
   "execution_count": 5,
   "id": "5e8ad1e9-c3d6-4b4e-9d2b-b0095e9ab9c1",
   "metadata": {},
   "outputs": [
    {
     "data": {
      "text/plain": [
       "┌──────────────┬───────────────┐\n",
       "│  brand_name  │ total_revenue │\n",
       "│   varchar    │    double     │\n",
       "├──────────────┼───────────────┤\n",
       "│ Trek         │    4602754.35 │\n",
       "│ Electra      │    1205320.82 │\n",
       "│ Surly        │     949507.06 │\n",
       "│ Sun Bicycles │     341994.93 │\n",
       "│ Haro         │     185384.55 │\n",
       "│ Heller       │     171459.08 │\n",
       "│ Pure Cycles  │     149476.34 │\n",
       "│ Ritchey      │      78898.95 │\n",
       "│ Strider      │       4320.48 │\n",
       "└──────────────┴───────────────┘"
      ]
     },
     "execution_count": 5,
     "metadata": {},
     "output_type": "execute_result"
    }
   ],
   "source": [
    "query2 = '''\n",
    "WITH order_products_id AS (\n",
    "SELECT oi.product_id, \n",
    "\tquantity, \n",
    "    oi.list_price, \n",
    "    discount, \n",
    "    p.brand_id, \n",
    "    brand_name\n",
    "FROM order_items oi\n",
    "JOIN products p\n",
    "\tON oi.product_id = p.product_id\n",
    "JOIN brands b\n",
    "\tON p.brand_id = b.brand_id\n",
    "),\n",
    "compute_revenue AS (\n",
    "SELECT *,\n",
    "\tquantity * (list_price * (1 - discount)) AS revenue\n",
    "FROM order_products_id\n",
    ")\n",
    "SELECT brand_name, \n",
    "\tROUND(SUM(revenue), 2) as total_revenue\n",
    "FROM compute_revenue\n",
    "GROUP BY brand_name\n",
    "ORDER BY SUM(revenue) DESC\n",
    ";\n",
    "'''\n",
    "\n",
    "duckdb.sql(query2)"
   ]
  },
  {
   "cell_type": "markdown",
   "id": "4aa1de48-bc5b-48d4-891e-cd69671570d4",
   "metadata": {
    "jp-MarkdownHeadingCollapsed": true
   },
   "source": [
    "### How much of the customers are retained (i.e. new vs. repeat customers)?"
   ]
  },
  {
   "cell_type": "code",
   "execution_count": 6,
   "id": "93844e6e-e125-42e1-8c43-45fdabe1c9bc",
   "metadata": {},
   "outputs": [
    {
     "data": {
      "text/plain": [
       "┌─────────────────┬────────┐\n",
       "│ customer_status │ amount │\n",
       "│     varchar     │ int64  │\n",
       "├─────────────────┼────────┤\n",
       "│ Repeat          │    131 │\n",
       "│ New             │   1314 │\n",
       "└─────────────────┴────────┘"
      ]
     },
     "execution_count": 6,
     "metadata": {},
     "output_type": "execute_result"
    }
   ],
   "source": [
    "query3 = '''\n",
    "WITH get_customer_status AS (\n",
    "SELECT c.customer_id, \n",
    "\tfirst_name, \n",
    "    last_name,\n",
    "\tCASE WHEN COUNT(DISTINCT o.order_id) > 1 THEN 'Repeat'\n",
    "\tELSE 'New'\n",
    "    END AS customer_status\n",
    "FROM customers c\n",
    "JOIN orders o\n",
    "\tON o.customer_id = c.customer_id\n",
    "GROUP BY c.customer_id, first_name, last_name\n",
    ")\n",
    "SELECT customer_status, \n",
    "\tCOUNT(customer_status) AS amount\n",
    "FROM get_customer_status\n",
    "GROUP BY customer_status\n",
    ";\n",
    "'''\n",
    "\n",
    "duckdb.sql(query3)"
   ]
  },
  {
   "cell_type": "markdown",
   "id": "f586aa97-662e-430e-8bca-3531ab714f8a",
   "metadata": {
    "jp-MarkdownHeadingCollapsed": true
   },
   "source": [
    "### For each store, how many customers are new vs. repeat, and what percentage are repeat customers?"
   ]
  },
  {
   "cell_type": "code",
   "execution_count": 7,
   "id": "4ad214f2-d670-43f0-86b4-4ff0401399c3",
   "metadata": {},
   "outputs": [
    {
     "data": {
      "text/plain": [
       "┌──────────────────┬──────────────────┬───────────────┬─────────────────┬──────────────────────────┐\n",
       "│    store_name    │ repeat_customers │ new_customers │ total_customers │ percent_repeat_customers │\n",
       "│     varchar      │      int64       │     int64     │      int64      │          double          │\n",
       "├──────────────────┼──────────────────┼───────────────┼─────────────────┼──────────────────────────┤\n",
       "│ Baldwin Bikes    │               60 │           959 │            1019 │                     5.89 │\n",
       "│ Santa Cruz Bikes │               52 │           232 │             284 │                    18.31 │\n",
       "│ Rowlett Bikes    │               19 │           123 │             142 │                    13.38 │\n",
       "└──────────────────┴──────────────────┴───────────────┴─────────────────┴──────────────────────────┘"
      ]
     },
     "execution_count": 7,
     "metadata": {},
     "output_type": "execute_result"
    }
   ],
   "source": [
    "query4 = '''\n",
    "WITH get_store_customer_status AS (\n",
    "SELECT c.customer_id, \n",
    "\ts.store_name,\n",
    "\tCASE WHEN COUNT(DISTINCT o.order_id) > 1 THEN 'Repeat'\n",
    "\tELSE 'New'\n",
    "    END AS customer_status\n",
    "FROM customers c\n",
    "JOIN orders o\n",
    "\tON o.customer_id = c.customer_id\n",
    "JOIN stores s\n",
    "\tON o.store_id = s.store_id\n",
    "GROUP BY c.customer_id, s.store_name\n",
    ")\n",
    "SELECT store_name, \n",
    "\tCOUNT(CASE WHEN customer_status = 'Repeat' THEN 1 END) AS repeat_customers,\n",
    "\tCOUNT(CASE WHEN customer_status = 'New' THEN 1 END) AS new_customers,\n",
    "\tCOUNT(*) AS total_customers,\n",
    "\tROUND(100.0 * COUNT(CASE WHEN customer_status = 'Repeat' THEN 1 END) / COUNT(*) , 2) AS percent_repeat_customers\n",
    "FROM get_store_customer_status\n",
    "GROUP BY store_name\n",
    "ORDER BY 4 DESC\n",
    ";\n",
    "'''\n",
    "\n",
    "duckdb.sql(query4)"
   ]
  },
  {
   "cell_type": "markdown",
   "id": "111a7d98-273f-41cc-ae6c-47b1f40d59ae",
   "metadata": {
    "jp-MarkdownHeadingCollapsed": true
   },
   "source": [
    "### Which brands gave the highest total discounts, and how many units did they sell?"
   ]
  },
  {
   "cell_type": "code",
   "execution_count": 8,
   "id": "2a977656-03e9-48ef-9ccd-253e8047928f",
   "metadata": {},
   "outputs": [
    {
     "data": {
      "text/plain": [
       "┌──────────────┬──────────────────────┬────────────────┐\n",
       "│  brand_name  │ total_quantity_sales │ total_discount │\n",
       "│   varchar    │        int128        │     double     │\n",
       "├──────────────┼──────────────────────┼────────────────┤\n",
       "│ Trek         │                 1839 │      526627.26 │\n",
       "│ Electra      │                 2612 │      138822.97 │\n",
       "│ Surly        │                  908 │      113628.76 │\n",
       "│ Sun Bicycles │                  731 │       39924.76 │\n",
       "│ Heller       │                  138 │       22339.63 │\n",
       "│ Haro         │                  331 │       21712.14 │\n",
       "│ Pure Cycles  │                  376 │       16687.66 │\n",
       "│ Ritchey      │                  118 │        9599.87 │\n",
       "│ Strider      │                   25 │         529.27 │\n",
       "└──────────────┴──────────────────────┴────────────────┘"
      ]
     },
     "execution_count": 8,
     "metadata": {},
     "output_type": "execute_result"
    }
   ],
   "source": [
    "query5 = '''\n",
    "WITH get_discount AS (\n",
    "SELECT oi.product_id, \n",
    "\tquantity, \n",
    "    oi.list_price, \n",
    "    discount, \n",
    "    p.brand_id, \n",
    "    brand_name,\n",
    "\tquantity * (oi.list_price * oi.discount) AS discount_in_usd\n",
    "FROM order_items oi\n",
    "JOIN products p\n",
    "\tON oi.product_id = p.product_id\n",
    "JOIN brands b\n",
    "\tON p.brand_id = b.brand_id\n",
    ")\n",
    "SELECT brand_name, \n",
    "\tSUM(quantity) AS total_quantity_sales, \n",
    "\tROUND(SUM(discount_in_usd), 2) AS total_discount\n",
    "FROM get_discount\n",
    "GROUP BY brand_name\n",
    "ORDER BY SUM(discount_in_usd) DESC\n",
    ";\n",
    "'''\n",
    "\n",
    "duckdb.sql(query5)"
   ]
  },
  {
   "cell_type": "markdown",
   "id": "3c01d2c3-a359-4fc1-b53e-9d9a423fbfef",
   "metadata": {
    "jp-MarkdownHeadingCollapsed": true
   },
   "source": [
    "### What is the annual revenue per store?"
   ]
  },
  {
   "cell_type": "code",
   "execution_count": 9,
   "id": "a23e6cea-6436-450e-b460-155c2fe4553e",
   "metadata": {},
   "outputs": [
    {
     "data": {
      "text/plain": [
       "┌───────┬───────────────────────┬───────────────────────┬─────────────────────────┐\n",
       "│ year  │ Baldwin_Bikes_revenue │ Rowlett_Bikes_revenue │ SantaCruz_Bikes_revenue │\n",
       "│ int64 │        double         │        double         │         double          │\n",
       "├───────┼───────────────────────┼───────────────────────┼─────────────────────────┤\n",
       "│  2016 │            1590598.88 │             271286.14 │               565493.51 │\n",
       "│  2017 │             2479688.4 │             404611.61 │               562908.24 │\n",
       "│  2018 │             1145464.0 │              191644.5 │               477421.29 │\n",
       "└───────┴───────────────────────┴───────────────────────┴─────────────────────────┘"
      ]
     },
     "execution_count": 9,
     "metadata": {},
     "output_type": "execute_result"
    }
   ],
   "source": [
    "query6 = '''\n",
    "WITH get_year_sales AS (\n",
    "SELECT o.order_id, \n",
    "\tEXTRACT(YEAR FROM order_date) AS year, \n",
    "    quantity, \n",
    "    list_price, \n",
    "    discount, \n",
    "    store_name\n",
    "FROM orders o\n",
    "JOIN order_items oi\n",
    "\tON o.order_id = oi.order_id\n",
    "JOIN stores s\n",
    "\tON o.store_id = s.store_id\n",
    ")\n",
    "SELECT year, \n",
    "\tROUND(SUM(CASE WHEN store_name = 'Baldwin Bikes' THEN quantity * (list_price * (1 - discount)) ELSE 0 END), 2) AS Baldwin_Bikes_revenue,\n",
    "\tROUND(SUM(CASE WHEN store_name = 'Rowlett Bikes' THEN quantity * (list_price * (1 - discount)) ELSE 0 END), 2) AS Rowlett_Bikes_revenue,\n",
    "\tROUND(SUM(CASE WHEN store_name = 'Santa Cruz Bikes' THEN quantity * (list_price * (1 - discount)) ELSE 0 END), 2) AS SantaCruz_Bikes_revenue\n",
    "FROM get_year_sales\n",
    "GROUP BY year\n",
    ";\n",
    "'''\n",
    "\n",
    "duckdb.sql(query6)"
   ]
  },
  {
   "cell_type": "markdown",
   "id": "79c503bc-577b-48bd-8dd5-f0926ae0968e",
   "metadata": {
    "jp-MarkdownHeadingCollapsed": true
   },
   "source": [
    "### What are the top 5 categories by revenue in each store?"
   ]
  },
  {
   "cell_type": "code",
   "execution_count": 10,
   "id": "6525e582-15eb-4184-8fdb-10b3fc2d36ff",
   "metadata": {},
   "outputs": [
    {
     "data": {
      "text/plain": [
       "┌──────────────────┬───────────────┬─────────────────────┬─────────────────────────┐\n",
       "│    store_name    │ category_rank │    category_name    │ round(total_revenue, 2) │\n",
       "│     varchar      │     int64     │       varchar       │         double          │\n",
       "├──────────────────┼───────────────┼─────────────────────┼─────────────────────────┤\n",
       "│ Baldwin Bikes    │             5 │ Cyclocross Bicycles │               487774.56 │\n",
       "│ Baldwin Bikes    │             1 │ Mountain Bikes      │              1836392.23 │\n",
       "│ Baldwin Bikes    │             2 │ Road Bikes          │              1140477.21 │\n",
       "│ Baldwin Bikes    │             3 │ Cruisers Bicycles   │               681795.77 │\n",
       "│ Baldwin Bikes    │             4 │ Electric Bikes      │               602829.78 │\n",
       "│ Rowlett Bikes    │             1 │ Mountain Bikes      │               316439.67 │\n",
       "│ Rowlett Bikes    │             2 │ Road Bikes          │               217271.01 │\n",
       "│ Rowlett Bikes    │             3 │ Cruisers Bicycles   │               106116.99 │\n",
       "│ Rowlett Bikes    │             4 │ Electric Bikes      │                94844.51 │\n",
       "│ Rowlett Bikes    │             5 │ Cyclocross Bicycles │                60936.34 │\n",
       "│ Santa Cruz Bikes │             1 │ Mountain Bikes      │               562247.64 │\n",
       "│ Santa Cruz Bikes │             2 │ Road Bikes          │               307350.26 │\n",
       "│ Santa Cruz Bikes │             3 │ Electric Bikes      │               219010.49 │\n",
       "│ Santa Cruz Bikes │             4 │ Cruisers Bicycles   │               207119.86 │\n",
       "│ Santa Cruz Bikes │             5 │ Cyclocross Bicycles │               162300.93 │\n",
       "├──────────────────┴───────────────┴─────────────────────┴─────────────────────────┤\n",
       "│ 15 rows                                                                4 columns │\n",
       "└──────────────────────────────────────────────────────────────────────────────────┘"
      ]
     },
     "execution_count": 10,
     "metadata": {},
     "output_type": "execute_result"
    }
   ],
   "source": [
    "query7 = '''\n",
    "WITH get_category_sales AS (\n",
    "SELECT oi.product_id, \n",
    "\toi.quantity, \n",
    "    oi.list_price, \n",
    "    discount, \n",
    "\toi.quantity * (oi.list_price * (1 - discount)) AS revenue,\n",
    "\tcategory_name, \n",
    "    store_name\n",
    "FROM orders o\n",
    "JOIN order_items oi \n",
    "\tON oi.order_id = o.order_id\n",
    "JOIN products p \n",
    "\tON oi.product_id = p.product_id\n",
    "JOIN categories cat\n",
    "\tON p.category_id = cat.category_id\n",
    "JOIN stores s\n",
    "\tON o.store_id = s.store_id\n",
    "),\n",
    "category_total_revenue AS (\n",
    "SELECT store_name, \n",
    "\tcategory_name, \n",
    "\tSUM(revenue) AS total_revenue\n",
    "FROM get_category_sales\n",
    "GROUP BY store_name, category_name\n",
    "),\n",
    "rank_categories AS (\n",
    "SELECT store_name, \n",
    "\tROW_NUMBER() OVER(PARTITION BY store_name ORDER BY total_revenue DESC) AS category_rank,\n",
    "\tcategory_name, \n",
    "    ROUND(total_revenue, 2)\n",
    "FROM category_total_revenue\n",
    ")\n",
    "SELECT *\n",
    "FROM rank_categories\n",
    "WHERE category_rank <= 5\n",
    "ORDER BY store_name\n",
    ";\n",
    "'''\n",
    "\n",
    "duckdb.sql(query7)"
   ]
  },
  {
   "cell_type": "markdown",
   "id": "6c579f8b-0ffe-4959-823a-1ebba61ed357",
   "metadata": {},
   "source": [
    "### Which customers made the most orders?"
   ]
  },
  {
   "cell_type": "code",
   "execution_count": null,
   "id": "860f0d3e-0421-4470-8faa-5841473ed545",
   "metadata": {},
   "outputs": [],
   "source": []
  },
  {
   "cell_type": "markdown",
   "id": "0a8463e5-3146-46e5-9213-fc2634592f77",
   "metadata": {},
   "source": [
    "### Which customers spent the most?"
   ]
  },
  {
   "cell_type": "code",
   "execution_count": null,
   "id": "84bc2aaa-e386-499f-9df5-a607cf7e2b50",
   "metadata": {},
   "outputs": [],
   "source": []
  },
  {
   "cell_type": "markdown",
   "id": "961741ce-ca72-44d6-bf15-e13626e520dd",
   "metadata": {},
   "source": [
    "### What is the average order value (AOV) per customer?"
   ]
  },
  {
   "cell_type": "code",
   "execution_count": null,
   "id": "5b790513-f567-4edf-9321-ab14288cb5b7",
   "metadata": {},
   "outputs": [],
   "source": []
  },
  {
   "cell_type": "markdown",
   "id": "52fb3074-88ef-43f0-965b-f609416934a2",
   "metadata": {},
   "source": [
    "### What is the average discount per category?"
   ]
  },
  {
   "cell_type": "code",
   "execution_count": null,
   "id": "d0a362bb-9580-4d14-a5a6-d2797fc8b9f1",
   "metadata": {},
   "outputs": [],
   "source": []
  },
  {
   "cell_type": "markdown",
   "id": "862d4bf8-5e4c-4cb7-95e8-b01bf023d81b",
   "metadata": {},
   "source": [
    "### Which products have the highest revenue per unit sold (premium items)?"
   ]
  },
  {
   "cell_type": "code",
   "execution_count": null,
   "id": "3c9a85ac-10db-4893-824c-b02bb6d70d0a",
   "metadata": {},
   "outputs": [],
   "source": []
  },
  {
   "cell_type": "markdown",
   "id": "0b7f5650-1968-401a-9ad3-e6f0e45310b6",
   "metadata": {},
   "source": [
    "## Advanced"
   ]
  },
  {
   "cell_type": "markdown",
   "id": "14e2a75a-1a4f-438e-9eb1-f9bd3813dae6",
   "metadata": {},
   "source": [
    "### Who are the top 10 customers by lifetime value (LTV)?\n",
    "\n",
    "A basic calculation of LTV involves multiplying the average purchase value by the average number of purchases per year and then by the average customer lifespan."
   ]
  },
  {
   "cell_type": "code",
   "execution_count": null,
   "id": "89da4f96-8ca7-40d6-a0b6-3161fe7f0ca9",
   "metadata": {},
   "outputs": [],
   "source": []
  },
  {
   "cell_type": "markdown",
   "id": "ac26a36e-c617-404f-bc81-b65280155d36",
   "metadata": {},
   "source": [
    "### Which product categories are most common in repeat orders?"
   ]
  }
 ],
 "metadata": {
  "kernelspec": {
   "display_name": "Python 3 (ipykernel)",
   "language": "python",
   "name": "python3"
  },
  "language_info": {
   "codemirror_mode": {
    "name": "ipython",
    "version": 3
   },
   "file_extension": ".py",
   "mimetype": "text/x-python",
   "name": "python",
   "nbconvert_exporter": "python",
   "pygments_lexer": "ipython3",
   "version": "3.12.10"
  }
 },
 "nbformat": 4,
 "nbformat_minor": 5
}
