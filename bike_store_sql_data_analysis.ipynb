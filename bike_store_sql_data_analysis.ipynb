{
 "cells": [
  {
   "cell_type": "markdown",
   "id": "118f6115-367e-401d-b566-750626a428db",
   "metadata": {},
   "source": [
    "## Importing libraries and converting converting CSV files to tables"
   ]
  },
  {
   "cell_type": "code",
   "execution_count": 1,
   "id": "24ac67e8-8846-4a0b-a731-dce919b20c80",
   "metadata": {},
   "outputs": [],
   "source": [
    "import numpy as np\n",
    "import duckdb\n",
    "import os"
   ]
  },
  {
   "cell_type": "code",
   "execution_count": 2,
   "id": "dd831ad7-d579-43ac-a786-ff22e7bd0752",
   "metadata": {},
   "outputs": [],
   "source": [
    "folder = 'bike_store_sample_database'\n",
    "\n",
    "# loop through all csv files in the folder\n",
    "for file in os.listdir(folder):\n",
    "    if file.endswith('.csv'):\n",
    "        table_name = os.path.splitext(file)[0]  # strip \".csv\" to use as table name\n",
    "        file_path = os.path.join(folder, file)\n",
    "        query = f\"CREATE TABLE {table_name} AS SELECT * FROM read_csv_auto('{file_path}')\"\n",
    "        duckdb.sql(query)\n"
   ]
  },
  {
   "cell_type": "code",
   "execution_count": 3,
   "id": "a7a7e7f7-7c30-4d7d-8dee-414fe60eede5",
   "metadata": {},
   "outputs": [
    {
     "data": {
      "text/plain": [
       "┌─────────────┐\n",
       "│    name     │\n",
       "│   varchar   │\n",
       "├─────────────┤\n",
       "│ brands      │\n",
       "│ categories  │\n",
       "│ customers   │\n",
       "│ order_items │\n",
       "│ orders      │\n",
       "│ products    │\n",
       "│ staffs      │\n",
       "│ stocks      │\n",
       "│ stores      │\n",
       "└─────────────┘"
      ]
     },
     "execution_count": 3,
     "metadata": {},
     "output_type": "execute_result"
    }
   ],
   "source": [
    "duckdb.sql(\"SHOW TABLES\")"
   ]
  },
  {
   "cell_type": "markdown",
   "id": "2c52df4a-86fe-4996-a775-32b5c9e2fbef",
   "metadata": {},
   "source": [
    "![Alt text](database_diagram.png \"Database Diagram\")"
   ]
  },
  {
   "cell_type": "markdown",
   "id": "95693682-cffc-4965-8d68-5c060e220e55",
   "metadata": {},
   "source": [
    "## Customer Analysis"
   ]
  },
  {
   "cell_type": "markdown",
   "id": "4aa1de48-bc5b-48d4-891e-cd69671570d4",
   "metadata": {},
   "source": [
    "### How much of the customers are retained (i.e. new vs. repeat customers)?"
   ]
  },
  {
   "cell_type": "code",
   "execution_count": 4,
   "id": "93844e6e-e125-42e1-8c43-45fdabe1c9bc",
   "metadata": {},
   "outputs": [
    {
     "data": {
      "text/plain": [
       "┌─────────────────┬────────┐\n",
       "│ customer_status │ amount │\n",
       "│     varchar     │ int64  │\n",
       "├─────────────────┼────────┤\n",
       "│ Repeat          │    131 │\n",
       "│ New             │   1314 │\n",
       "└─────────────────┴────────┘"
      ]
     },
     "execution_count": 4,
     "metadata": {},
     "output_type": "execute_result"
    }
   ],
   "source": [
    "query3 = '''\n",
    "WITH get_customer_status AS (\n",
    "SELECT c.customer_id, \n",
    "\tfirst_name, \n",
    "    last_name,\n",
    "\tCASE WHEN COUNT(DISTINCT o.order_id) > 1 THEN 'Repeat'\n",
    "\tELSE 'New'\n",
    "    END AS customer_status\n",
    "FROM customers c\n",
    "JOIN orders o\n",
    "\tON o.customer_id = c.customer_id\n",
    "GROUP BY c.customer_id, first_name, last_name\n",
    ")\n",
    "SELECT customer_status, \n",
    "\tCOUNT(customer_status) AS amount\n",
    "FROM get_customer_status\n",
    "GROUP BY customer_status\n",
    ";\n",
    "'''\n",
    "\n",
    "duckdb.sql(query3)"
   ]
  },
  {
   "cell_type": "markdown",
   "id": "f586aa97-662e-430e-8bca-3531ab714f8a",
   "metadata": {},
   "source": [
    "### For each store, how many customers are new vs. repeat, and what percentage are repeat customers?"
   ]
  },
  {
   "cell_type": "code",
   "execution_count": 5,
   "id": "4ad214f2-d670-43f0-86b4-4ff0401399c3",
   "metadata": {},
   "outputs": [
    {
     "data": {
      "text/plain": [
       "┌──────────────────┬──────────────────┬───────────────┬─────────────────┬──────────────────────────┐\n",
       "│    store_name    │ repeat_customers │ new_customers │ total_customers │ percent_repeat_customers │\n",
       "│     varchar      │      int64       │     int64     │      int64      │          double          │\n",
       "├──────────────────┼──────────────────┼───────────────┼─────────────────┼──────────────────────────┤\n",
       "│ Baldwin Bikes    │               60 │           959 │            1019 │                     5.89 │\n",
       "│ Santa Cruz Bikes │               52 │           232 │             284 │                    18.31 │\n",
       "│ Rowlett Bikes    │               19 │           123 │             142 │                    13.38 │\n",
       "└──────────────────┴──────────────────┴───────────────┴─────────────────┴──────────────────────────┘"
      ]
     },
     "execution_count": 5,
     "metadata": {},
     "output_type": "execute_result"
    }
   ],
   "source": [
    "query4 = '''\n",
    "WITH get_store_customer_status AS (\n",
    "SELECT c.customer_id, \n",
    "\ts.store_name,\n",
    "\tCASE WHEN COUNT(DISTINCT o.order_id) > 1 THEN 'Repeat'\n",
    "\tELSE 'New'\n",
    "    END AS customer_status\n",
    "FROM customers c\n",
    "JOIN orders o\n",
    "\tON o.customer_id = c.customer_id\n",
    "JOIN stores s\n",
    "\tON o.store_id = s.store_id\n",
    "GROUP BY c.customer_id, s.store_name\n",
    ")\n",
    "SELECT store_name, \n",
    "\tCOUNT(CASE WHEN customer_status = 'Repeat' THEN 1 END) AS repeat_customers,\n",
    "\tCOUNT(CASE WHEN customer_status = 'New' THEN 1 END) AS new_customers,\n",
    "\tCOUNT(*) AS total_customers,\n",
    "\tROUND(100.0 * COUNT(CASE WHEN customer_status = 'Repeat' THEN 1 END) / COUNT(*) , 2) AS percent_repeat_customers\n",
    "FROM get_store_customer_status\n",
    "GROUP BY store_name\n",
    "ORDER BY 4 DESC\n",
    ";\n",
    "'''\n",
    "\n",
    "duckdb.sql(query4)"
   ]
  },
  {
   "cell_type": "markdown",
   "id": "6c579f8b-0ffe-4959-823a-1ebba61ed357",
   "metadata": {},
   "source": [
    "### Which customers made the most orders?"
   ]
  },
  {
   "cell_type": "code",
   "execution_count": 6,
   "id": "48a688f1-7053-4aeb-8447-129d4a1862f5",
   "metadata": {},
   "outputs": [
    {
     "data": {
      "text/plain": [
       "┌─────────────┬────────────┬───────────┬─────────────────────┐\n",
       "│ customer_id │ first_name │ last_name │ highest_total_order │\n",
       "│    int64    │  varchar   │  varchar  │        int64        │\n",
       "├─────────────┼────────────┼───────────┼─────────────────────┤\n",
       "│           3 │ Tameka     │ Fisher    │                   3 │\n",
       "│          64 │ Bobbie     │ Foster    │                   3 │\n",
       "│           6 │ Lyndsey    │ Bean      │                   3 │\n",
       "│          19 │ Lizzette   │ Stein     │                   3 │\n",
       "│          30 │ Jamaal     │ Albert    │                   3 │\n",
       "│          33 │ Deloris    │ Burke     │                   3 │\n",
       "│          53 │ Saturnina  │ Garner    │                   3 │\n",
       "│           4 │ Daryl      │ Spence    │                   3 │\n",
       "│           8 │ Jacquline  │ Duncan    │                   3 │\n",
       "│          16 │ Emmitt     │ Sanchez   │                   3 │\n",
       "│           · │   ·        │   ·       │                   · │\n",
       "│           · │   ·        │   ·       │                   · │\n",
       "│           · │   ·        │   ·       │                   · │\n",
       "│          12 │ Robby      │ Sykes     │                   3 │\n",
       "│          24 │ Corene     │ Wall      │                   3 │\n",
       "│          77 │ Keri       │ Bridges   │                   3 │\n",
       "│           7 │ Latasha    │ Hays      │                   3 │\n",
       "│          31 │ Williemae  │ Holloway  │                   3 │\n",
       "│          47 │ Bridgette  │ Guerra    │                   3 │\n",
       "│          56 │ Lolita     │ Mosley    │                   3 │\n",
       "│         116 │ Merlene    │ Vinson    │                   3 │\n",
       "│           9 │ Genoveva   │ Baldwin   │                   3 │\n",
       "│          20 │ Aleta      │ Shepard   │                   3 │\n",
       "├─────────────┴────────────┴───────────┴─────────────────────┤\n",
       "│ 39 rows (20 shown)                               4 columns │\n",
       "└────────────────────────────────────────────────────────────┘"
      ]
     },
     "execution_count": 6,
     "metadata": {},
     "output_type": "execute_result"
    }
   ],
   "source": [
    "query = '''\n",
    "WITH get_total_orders AS (\n",
    "SELECT o.customer_id, \n",
    "\tfirst_name, \n",
    "    last_name,\n",
    "\tCOUNT(o.order_id) AS total_order\n",
    "FROM orders o\n",
    "JOIN customers c\n",
    "\tON c.customer_id = o.customer_id\n",
    "GROUP BY o.customer_id, first_name, last_name\n",
    ")\n",
    "SELECT customer_id, first_name, last_name, MAX(total_order) AS highest_total_order\n",
    "FROM get_total_orders\n",
    "WHERE total_order = (SELECT MAX(total_order) FROM get_total_orders)\n",
    "GROUP BY customer_id, first_name, last_name\n",
    ";\n",
    "'''\n",
    "duckdb.sql(query)"
   ]
  },
  {
   "cell_type": "markdown",
   "id": "0a8463e5-3146-46e5-9213-fc2634592f77",
   "metadata": {},
   "source": [
    "### Which customers spent the most?"
   ]
  },
  {
   "cell_type": "code",
   "execution_count": 7,
   "id": "cfac9d3b-100b-4e8a-927e-922b586f53e1",
   "metadata": {},
   "outputs": [
    {
     "data": {
      "text/plain": [
       "┌─────────────┬────────────┬───────────┬────────────┐\n",
       "│ customer_id │ first_name │ last_name │ total_cost │\n",
       "│    int64    │  varchar   │  varchar  │   double   │\n",
       "├─────────────┼────────────┼───────────┼────────────┤\n",
       "│          94 │ Sharyn     │ Hopkins   │   34807.94 │\n",
       "│          10 │ Pamelia    │ Newman    │   33634.26 │\n",
       "│          75 │ Abby       │ Gamble    │   32803.01 │\n",
       "│           6 │ Lyndsey    │ Bean      │   32675.07 │\n",
       "│          16 │ Emmitt     │ Sanchez   │   31925.89 │\n",
       "│          73 │ Melanie    │ Hayes     │   31913.69 │\n",
       "│           1 │ Debra      │ Burks     │   27888.18 │\n",
       "│          61 │ Elinore    │ Aguilar   │   25636.45 │\n",
       "│          93 │ Corrina    │ Sawyer    │    25612.7 │\n",
       "│         122 │ Shena      │ Carter    │   24890.62 │\n",
       "├─────────────┴────────────┴───────────┴────────────┤\n",
       "│ 10 rows                                 4 columns │\n",
       "└───────────────────────────────────────────────────┘"
      ]
     },
     "execution_count": 7,
     "metadata": {},
     "output_type": "execute_result"
    }
   ],
   "source": [
    "query = '''\n",
    "WITH get_total_customer_cost AS (\n",
    "SELECT o.customer_id, \n",
    "\tproduct_id, \n",
    "\tquantity * (list_price * (1 - discount)) AS cost,\n",
    "    first_name, \n",
    "    last_name\n",
    "FROM order_items oi\n",
    "JOIN orders o\n",
    "\tON oi.order_id = o.order_id\n",
    "JOIN customers c\n",
    "\tON o.customer_id = c.customer_id \n",
    ")\n",
    "SELECT customer_id, first_name, last_name, ROUND(SUM(cost), 2) AS total_cost\n",
    "FROM get_total_customer_cost\n",
    "GROUP BY customer_id, first_name, last_name\n",
    "ORDER BY SUM(cost) DESC LIMIT 10\n",
    ";\n",
    "'''\n",
    "\n",
    "duckdb.sql(query)"
   ]
  },
  {
   "cell_type": "markdown",
   "id": "961741ce-ca72-44d6-bf15-e13626e520dd",
   "metadata": {},
   "source": [
    "### What is the average order value (AOV) per customer?"
   ]
  },
  {
   "cell_type": "code",
   "execution_count": 8,
   "id": "3f62f42c-698d-48a5-85bb-b78b49b7282f",
   "metadata": {},
   "outputs": [
    {
     "data": {
      "text/plain": [
       "┌─────────────┬────────────┬───────────┬─────────────┬────────────────────┬─────────────────────┐\n",
       "│ customer_id │ first_name │ last_name │ total_order │     total_cost     │ average_order_value │\n",
       "│    int64    │  varchar   │  varchar  │    int64    │       double       │       double        │\n",
       "├─────────────┼────────────┼───────────┼─────────────┼────────────────────┼─────────────────────┤\n",
       "│         122 │ Shena      │ Carter    │           1 │         24890.6244 │            24890.62 │\n",
       "│        1224 │ Abram      │ Copeland  │           1 │         24607.0261 │            24607.03 │\n",
       "│        1214 │ Brigid     │ Sharp     │           1 │         20648.9537 │            20648.95 │\n",
       "│         425 │ Augustina  │ Joyner    │           1 │ 20509.425399999996 │            20509.43 │\n",
       "│         238 │ Cindi      │ Larson    │           1 │         20177.7457 │            20177.75 │\n",
       "│        1023 │ Adena      │ Blake     │           1 │         19329.9492 │            19329.95 │\n",
       "│         464 │ Bess       │ Mcbride   │           1 │ 18853.354399999997 │            18853.35 │\n",
       "│        1100 │ Penny      │ Acevedo   │           1 │         18670.9288 │            18670.93 │\n",
       "│         227 │ Danielle   │ Bond      │           1 │ 18553.730000000003 │            18553.73 │\n",
       "│         108 │ Shae       │ Hickman   │           1 │         18281.4729 │            18281.47 │\n",
       "│          ·  │  ·         │    ·      │           · │               ·    │                 ·   │\n",
       "│          ·  │  ·         │    ·      │           · │               ·    │                 ·   │\n",
       "│          ·  │  ·         │    ·      │           · │               ·    │                 ·   │\n",
       "│        1142 │ Britteny   │ Schroeder │           1 │           232.4907 │              232.49 │\n",
       "│         347 │ Kanesha    │ Hudson    │           1 │ 225.89100000000002 │              225.89 │\n",
       "│         593 │ Antony     │ Atkinson  │           1 │            208.981 │              208.98 │\n",
       "│         221 │ Clementine │ Mooney    │           1 │ 199.99200000000002 │              199.99 │\n",
       "│        1414 │ Sonja      │ Walls     │           1 │           176.6907 │              176.69 │\n",
       "│         177 │ Carissa    │ Foreman   │           1 │            170.991 │              170.99 │\n",
       "│         752 │ Lloyd      │ Miranda   │           1 │            170.991 │              170.99 │\n",
       "│        1111 │ Caroline   │ Jenkins   │           1 │            170.991 │              170.99 │\n",
       "│         718 │ Luciana    │ Mcgee     │           1 │ 167.99200000000002 │              167.99 │\n",
       "│         850 │ Stephanie  │ Browning  │           1 │           104.4905 │              104.49 │\n",
       "├─────────────┴────────────┴───────────┴─────────────┴────────────────────┴─────────────────────┤\n",
       "│ 1445 rows (20 shown)                                                                6 columns │\n",
       "└───────────────────────────────────────────────────────────────────────────────────────────────┘"
      ]
     },
     "execution_count": 8,
     "metadata": {},
     "output_type": "execute_result"
    }
   ],
   "source": [
    "query = '''\n",
    "WITH get_total_orders AS (\n",
    "SELECT o.customer_id, \n",
    "\tfirst_name,\n",
    "    last_name,\n",
    "\tCOUNT(o.order_id) AS total_order\n",
    "FROM orders o\n",
    "JOIN customers c\n",
    "\tON c.customer_id = o.customer_id\n",
    "GROUP BY o.customer_id, first_name, last_name\n",
    "),\n",
    "get_total_cost AS (\n",
    "SELECT o.customer_id,\n",
    "\tSUM(quantity * (list_price * (1 - discount))) AS total_cost\n",
    "FROM order_items oi\n",
    "JOIN orders o\n",
    "\tON oi.order_id = o.order_id\n",
    "JOIN customers c\n",
    "\tON o.customer_id = c.customer_id\n",
    "GROUP BY o.customer_id\n",
    ") \n",
    "SELECT gto.customer_id, \n",
    "\tfirst_name, \n",
    "\tlast_name, \n",
    "\ttotal_order,\n",
    "    total_cost,\n",
    "    ROUND(total_cost / total_order, 2) AS average_order_value\n",
    "FROM get_total_orders gto\n",
    "JOIN get_total_cost gtc\n",
    "\tON gto.customer_id = gtc.customer_id\n",
    "-- WHERE total_order = (SELECT MAX(total_order) FROM get_total_orders) # uncomment to get customers with highest total transactions\n",
    "ORDER BY (total_cost / total_order) DESC\n",
    ";\n",
    "'''\n",
    "\n",
    "duckdb.sql(query)"
   ]
  },
  {
   "cell_type": "markdown",
   "id": "6258f8cd-35af-4cbc-a813-2f78311b61fa",
   "metadata": {},
   "source": [
    "## Store Analysis"
   ]
  },
  {
   "cell_type": "markdown",
   "id": "3c01d2c3-a359-4fc1-b53e-9d9a423fbfef",
   "metadata": {},
   "source": [
    "### What is the annual revenue per store?"
   ]
  },
  {
   "cell_type": "code",
   "execution_count": 9,
   "id": "a23e6cea-6436-450e-b460-155c2fe4553e",
   "metadata": {},
   "outputs": [
    {
     "data": {
      "text/plain": [
       "┌───────┬───────────────────────┬───────────────────────┬─────────────────────────┐\n",
       "│ year  │ Baldwin_Bikes_revenue │ Rowlett_Bikes_revenue │ SantaCruz_Bikes_revenue │\n",
       "│ int64 │        double         │        double         │         double          │\n",
       "├───────┼───────────────────────┼───────────────────────┼─────────────────────────┤\n",
       "│  2016 │            1590598.88 │             271286.14 │               565493.51 │\n",
       "│  2017 │             2479688.4 │             404611.61 │               562908.24 │\n",
       "│  2018 │             1145464.0 │              191644.5 │               477421.29 │\n",
       "└───────┴───────────────────────┴───────────────────────┴─────────────────────────┘"
      ]
     },
     "execution_count": 9,
     "metadata": {},
     "output_type": "execute_result"
    }
   ],
   "source": [
    "query6 = '''\n",
    "WITH get_year_sales AS (\n",
    "SELECT o.order_id, \n",
    "\tEXTRACT(YEAR FROM order_date) AS year, \n",
    "    quantity, \n",
    "    list_price, \n",
    "    discount, \n",
    "    store_name\n",
    "FROM orders o\n",
    "JOIN order_items oi\n",
    "\tON o.order_id = oi.order_id\n",
    "JOIN stores s\n",
    "\tON o.store_id = s.store_id\n",
    ")\n",
    "SELECT year, \n",
    "\tROUND(SUM(CASE WHEN store_name = 'Baldwin Bikes' THEN quantity * (list_price * (1 - discount)) ELSE 0 END), 2) AS Baldwin_Bikes_revenue,\n",
    "\tROUND(SUM(CASE WHEN store_name = 'Rowlett Bikes' THEN quantity * (list_price * (1 - discount)) ELSE 0 END), 2) AS Rowlett_Bikes_revenue,\n",
    "\tROUND(SUM(CASE WHEN store_name = 'Santa Cruz Bikes' THEN quantity * (list_price * (1 - discount)) ELSE 0 END), 2) AS SantaCruz_Bikes_revenue\n",
    "FROM get_year_sales\n",
    "GROUP BY year\n",
    ";\n",
    "'''\n",
    "\n",
    "duckdb.sql(query6)"
   ]
  },
  {
   "cell_type": "markdown",
   "id": "79c503bc-577b-48bd-8dd5-f0926ae0968e",
   "metadata": {},
   "source": [
    "### What are the top 5 categories by revenue in each store?"
   ]
  },
  {
   "cell_type": "code",
   "execution_count": 10,
   "id": "6525e582-15eb-4184-8fdb-10b3fc2d36ff",
   "metadata": {},
   "outputs": [
    {
     "data": {
      "text/plain": [
       "┌──────────────────┬───────────────┬─────────────────────┬─────────────────────────┐\n",
       "│    store_name    │ category_rank │    category_name    │ round(total_revenue, 2) │\n",
       "│     varchar      │     int64     │       varchar       │         double          │\n",
       "├──────────────────┼───────────────┼─────────────────────┼─────────────────────────┤\n",
       "│ Baldwin Bikes    │             1 │ Mountain Bikes      │              1836392.23 │\n",
       "│ Baldwin Bikes    │             2 │ Road Bikes          │              1140477.21 │\n",
       "│ Baldwin Bikes    │             3 │ Cruisers Bicycles   │               681795.77 │\n",
       "│ Baldwin Bikes    │             4 │ Electric Bikes      │               602829.78 │\n",
       "│ Baldwin Bikes    │             5 │ Cyclocross Bicycles │               487774.56 │\n",
       "│ Rowlett Bikes    │             1 │ Mountain Bikes      │               316439.67 │\n",
       "│ Rowlett Bikes    │             2 │ Road Bikes          │               217271.01 │\n",
       "│ Rowlett Bikes    │             3 │ Cruisers Bicycles   │               106116.99 │\n",
       "│ Rowlett Bikes    │             4 │ Electric Bikes      │                94844.51 │\n",
       "│ Rowlett Bikes    │             5 │ Cyclocross Bicycles │                60936.34 │\n",
       "│ Santa Cruz Bikes │             5 │ Cyclocross Bicycles │               162300.93 │\n",
       "│ Santa Cruz Bikes │             1 │ Mountain Bikes      │               562247.64 │\n",
       "│ Santa Cruz Bikes │             2 │ Road Bikes          │               307350.26 │\n",
       "│ Santa Cruz Bikes │             3 │ Electric Bikes      │               219010.49 │\n",
       "│ Santa Cruz Bikes │             4 │ Cruisers Bicycles   │               207119.86 │\n",
       "├──────────────────┴───────────────┴─────────────────────┴─────────────────────────┤\n",
       "│ 15 rows                                                                4 columns │\n",
       "└──────────────────────────────────────────────────────────────────────────────────┘"
      ]
     },
     "execution_count": 10,
     "metadata": {},
     "output_type": "execute_result"
    }
   ],
   "source": [
    "query7 = '''\n",
    "WITH get_category_sales AS (\n",
    "SELECT oi.product_id, \n",
    "\toi.quantity, \n",
    "    oi.list_price, \n",
    "    discount, \n",
    "\toi.quantity * (oi.list_price * (1 - discount)) AS revenue,\n",
    "\tcategory_name, \n",
    "    store_name\n",
    "FROM orders o\n",
    "JOIN order_items oi \n",
    "\tON oi.order_id = o.order_id\n",
    "JOIN products p \n",
    "\tON oi.product_id = p.product_id\n",
    "JOIN categories cat\n",
    "\tON p.category_id = cat.category_id\n",
    "JOIN stores s\n",
    "\tON o.store_id = s.store_id\n",
    "),\n",
    "category_total_revenue AS (\n",
    "SELECT store_name, \n",
    "\tcategory_name, \n",
    "\tSUM(revenue) AS total_revenue\n",
    "FROM get_category_sales\n",
    "GROUP BY store_name, category_name\n",
    "),\n",
    "rank_categories AS (\n",
    "SELECT store_name, \n",
    "\tROW_NUMBER() OVER(PARTITION BY store_name ORDER BY total_revenue DESC) AS category_rank,\n",
    "\tcategory_name, \n",
    "    ROUND(total_revenue, 2)\n",
    "FROM category_total_revenue\n",
    ")\n",
    "SELECT *\n",
    "FROM rank_categories\n",
    "WHERE category_rank <= 5\n",
    "ORDER BY store_name\n",
    ";\n",
    "'''\n",
    "\n",
    "duckdb.sql(query7)"
   ]
  },
  {
   "cell_type": "markdown",
   "id": "b47ff4ec-b2d6-469b-8423-81f06c97a94d",
   "metadata": {},
   "source": [
    "## Products & Categories"
   ]
  },
  {
   "cell_type": "markdown",
   "id": "80b09e87-7450-4901-a0d8-846144088107",
   "metadata": {},
   "source": [
    "### Which brands sold the highest total quantity of products?"
   ]
  },
  {
   "cell_type": "code",
   "execution_count": 11,
   "id": "29084cbf-1e9e-4e63-807b-5c2d641d05e1",
   "metadata": {},
   "outputs": [
    {
     "data": {
      "text/plain": [
       "┌──────────────┬──────────────────────┐\n",
       "│  brand_name  │ total_quantity_sales │\n",
       "│   varchar    │        int128        │\n",
       "├──────────────┼──────────────────────┤\n",
       "│ Electra      │                 2612 │\n",
       "│ Trek         │                 1839 │\n",
       "│ Surly        │                  908 │\n",
       "│ Sun Bicycles │                  731 │\n",
       "│ Pure Cycles  │                  376 │\n",
       "│ Haro         │                  331 │\n",
       "│ Heller       │                  138 │\n",
       "│ Ritchey      │                  118 │\n",
       "│ Strider      │                   25 │\n",
       "└──────────────┴──────────────────────┘"
      ]
     },
     "execution_count": 11,
     "metadata": {},
     "output_type": "execute_result"
    }
   ],
   "source": [
    "query1 = '''\n",
    "WITH product_quantities AS (\n",
    "SELECT oi.product_id, \n",
    "\tquantity, \n",
    "    p.brand_id, \n",
    "    brand_name\n",
    "FROM order_items oi\n",
    "JOIN products p\n",
    "\tON oi.product_id = p.product_id\n",
    "JOIN brands b\n",
    "\tON p.brand_id = b.brand_id\n",
    ")\n",
    "SELECT brand_name, \n",
    "\tSUM(quantity) as total_quantity_sales\n",
    "FROM product_quantities\n",
    "GROUP BY brand_name\n",
    "ORDER BY SUM(quantity) DESC\n",
    ";\n",
    "'''\n",
    "\n",
    "duckdb.sql(query1)"
   ]
  },
  {
   "cell_type": "markdown",
   "id": "2e115d4f-b9a2-40e4-8f8f-d341e98e330d",
   "metadata": {},
   "source": [
    "### Which brands generated the highest total revenue?"
   ]
  },
  {
   "cell_type": "code",
   "execution_count": 12,
   "id": "5e8ad1e9-c3d6-4b4e-9d2b-b0095e9ab9c1",
   "metadata": {},
   "outputs": [
    {
     "data": {
      "text/plain": [
       "┌──────────────┬───────────────┐\n",
       "│  brand_name  │ total_revenue │\n",
       "│   varchar    │    double     │\n",
       "├──────────────┼───────────────┤\n",
       "│ Trek         │    4602754.35 │\n",
       "│ Electra      │    1205320.82 │\n",
       "│ Surly        │     949507.06 │\n",
       "│ Sun Bicycles │     341994.93 │\n",
       "│ Haro         │     185384.55 │\n",
       "│ Heller       │     171459.08 │\n",
       "│ Pure Cycles  │     149476.34 │\n",
       "│ Ritchey      │      78898.95 │\n",
       "│ Strider      │       4320.48 │\n",
       "└──────────────┴───────────────┘"
      ]
     },
     "execution_count": 12,
     "metadata": {},
     "output_type": "execute_result"
    }
   ],
   "source": [
    "query2 = '''\n",
    "WITH order_products_id AS (\n",
    "SELECT oi.product_id, \n",
    "\tquantity, \n",
    "    oi.list_price, \n",
    "    discount, \n",
    "    p.brand_id, \n",
    "    brand_name\n",
    "FROM order_items oi\n",
    "JOIN products p\n",
    "\tON oi.product_id = p.product_id\n",
    "JOIN brands b\n",
    "\tON p.brand_id = b.brand_id\n",
    "),\n",
    "compute_revenue AS (\n",
    "SELECT *,\n",
    "\tquantity * (list_price * (1 - discount)) AS revenue\n",
    "FROM order_products_id\n",
    ")\n",
    "SELECT brand_name, \n",
    "\tROUND(SUM(revenue), 2) as total_revenue\n",
    "FROM compute_revenue\n",
    "GROUP BY brand_name\n",
    "ORDER BY SUM(revenue) DESC\n",
    ";\n",
    "'''\n",
    "\n",
    "duckdb.sql(query2)"
   ]
  },
  {
   "cell_type": "markdown",
   "id": "862d4bf8-5e4c-4cb7-95e8-b01bf023d81b",
   "metadata": {},
   "source": [
    "### Which products have the highest revenue per unit sold (premium items)?"
   ]
  },
  {
   "cell_type": "code",
   "execution_count": 13,
   "id": "cb386bf5-f648-4c92-a413-1deaa776eaec",
   "metadata": {},
   "outputs": [
    {
     "data": {
      "text/plain": [
       "┌────────────────────────────────────────┬──────────────────┐\n",
       "│              product_name              │ revenue_per_unit │\n",
       "│                varchar                 │      double      │\n",
       "├────────────────────────────────────────┼──────────────────┤\n",
       "│ Trek Domane SLR 9 Disc - 2018          │         10871.99 │\n",
       "│ Trek Domane SLR 8 Disc - 2018          │          6843.74 │\n",
       "│ Trek Domane SL Frameset Women's - 2018 │          6174.99 │\n",
       "│ Trek Emonda SLR 8 - 2018               │          6044.99 │\n",
       "│ Trek Silque SLR 8 Women's - 2017       │          6018.09 │\n",
       "│ Trek Domane SL Frameset - 2018         │          5849.99 │\n",
       "│ Trek Silque SLR 7 Women's - 2017       │          5435.99 │\n",
       "│ Trek Domane SLR 6 Disc - 2018          │          5224.99 │\n",
       "│ Trek Domane SLR 6 Disc - 2017          │          4920.57 │\n",
       "│ Trek Domane SL 8 Disc - 2018           │          4913.32 │\n",
       "│ Trek Fuel EX 9.8 27.5 Plus - 2017      │          4819.78 │\n",
       "│ Trek Remedy 9.8 - 2017                 │          4794.08 │\n",
       "│ Trek Super Commuter+ 8S - 2018         │          4662.49 │\n",
       "│ Trek Powerfly 8 FS Plus - 2017         │          4591.45 │\n",
       "│ Trek Powerfly 7 FS - 2018              │          4562.49 │\n",
       "│ Trek Madone 9.2 - 2017                 │          4510.25 │\n",
       "│ Trek Domane SL 7 Women's - 2018        │          4485.71 │\n",
       "│ Trek Fuel EX 9.8 29 - 2017             │          4468.17 │\n",
       "│ Trek Powerfly 5 FS - 2018              │          4274.99 │\n",
       "│ Trek Domane SLR 6 - 2018               │          4249.99 │\n",
       "├────────────────────────────────────────┴──────────────────┤\n",
       "│ 20 rows                                         2 columns │\n",
       "└───────────────────────────────────────────────────────────┘"
      ]
     },
     "execution_count": 13,
     "metadata": {},
     "output_type": "execute_result"
    }
   ],
   "source": [
    "query = '''\n",
    "WITH get_product_revenue AS (\n",
    "SELECT quantity, \n",
    "\toi.list_price, \n",
    "    discount, \n",
    "    oi.product_id, \n",
    "    product_name,\n",
    "    quantity * (oi.list_price * (1 - discount)) AS revenue\n",
    "FROM order_items oi\n",
    "JOIN products p\n",
    "\tON oi.product_id = p.product_id\n",
    "),\n",
    "get_revenue_per_unit AS (\n",
    "SELECT product_id, \n",
    "\tproduct_name,\n",
    "\tSUM(quantity) AS total_quantity,\n",
    "    SUM(revenue) AS total_revenue\n",
    "FROM get_product_revenue\n",
    "GROUP BY product_id, product_name\n",
    ")\n",
    "SELECT product_name,\n",
    "\tROUND((total_revenue / total_quantity), 2) AS revenue_per_unit\n",
    "FROM get_revenue_per_unit \n",
    "ORDER BY (total_revenue / total_quantity) DESC LIMIT 20\n",
    ";\n",
    "'''\n",
    "\n",
    "duckdb.sql(query)"
   ]
  },
  {
   "cell_type": "markdown",
   "id": "2ec0904c-9ccd-4771-b564-6ecff67b8fa3",
   "metadata": {},
   "source": [
    "### Which products were not sold?"
   ]
  },
  {
   "cell_type": "code",
   "execution_count": 14,
   "id": "f9568c87-4488-4c06-86f7-ca3e224a95a7",
   "metadata": {},
   "outputs": [
    {
     "data": {
      "text/plain": [
       "┌────────────┬────────────────────────────────────────────────┬────────────┐\n",
       "│ product_id │                  product_name                  │ list_price │\n",
       "│   int64    │                    varchar                     │   double   │\n",
       "├────────────┼────────────────────────────────────────────────┼────────────┤\n",
       "│        284 │ Electra Savannah 1 (20-inch) - Girl's - 2018   │     319.99 │\n",
       "│        291 │ Electra Sweet Ride 1 (20-inch) - Girl's - 2018 │     319.99 │\n",
       "│        195 │ Electra Townie Go! 8i Ladies' - 2018           │    2599.99 │\n",
       "│        121 │ Surly Krampus Frameset - 2018                  │    2499.99 │\n",
       "│          1 │ Trek 820 - 2016                                │     379.99 │\n",
       "│        316 │ Trek Checkpoint ALR 4 Women's - 2019           │    1699.99 │\n",
       "│        317 │ Trek Checkpoint ALR 5 - 2019                   │    1999.99 │\n",
       "│        318 │ Trek Checkpoint ALR 5 Women's - 2019           │    1999.99 │\n",
       "│        321 │ Trek Checkpoint ALR Frameset - 2019            │    3199.99 │\n",
       "│        319 │ Trek Checkpoint SL 5 Women's - 2019            │    2799.99 │\n",
       "│        320 │ Trek Checkpoint SL 6 - 2019                    │    3799.99 │\n",
       "│        154 │ Trek Domane SLR 6 Disc Women's - 2018          │    5499.99 │\n",
       "│        125 │ Trek Kids' Dual Sport - 2018                   │     469.99 │\n",
       "│        267 │ Trek Precaliber 12 Girl's - 2018               │     199.99 │\n",
       "├────────────┴────────────────────────────────────────────────┴────────────┤\n",
       "│ 14 rows                                                        3 columns │\n",
       "└──────────────────────────────────────────────────────────────────────────┘"
      ]
     },
     "execution_count": 14,
     "metadata": {},
     "output_type": "execute_result"
    }
   ],
   "source": [
    "query = '''\n",
    "SELECT p.product_id,\n",
    "\tp.product_name,\n",
    "\tp.list_price\n",
    "FROM products p \n",
    "LEFT JOIN order_items oi\n",
    "\tON p.product_id = oi.product_id\n",
    "WHERE order_id IS NULL\n",
    "ORDER BY p.product_name\n",
    ";\n",
    "'''\n",
    "\n",
    "duckdb.sql(query)"
   ]
  },
  {
   "cell_type": "markdown",
   "id": "bafe27da-0af9-4a74-8901-08329f0e6b9e",
   "metadata": {},
   "source": [
    "## Discounts & Promotions"
   ]
  },
  {
   "cell_type": "markdown",
   "id": "111a7d98-273f-41cc-ae6c-47b1f40d59ae",
   "metadata": {},
   "source": [
    "### Which brands gave the highest total discounts, and how many units did they sell?"
   ]
  },
  {
   "cell_type": "code",
   "execution_count": 15,
   "id": "43ca31d5-a592-4121-b6e3-b682760d8c60",
   "metadata": {},
   "outputs": [
    {
     "data": {
      "text/plain": [
       "┌──────────────┬──────────────────────┬────────────────┐\n",
       "│  brand_name  │ total_quantity_sales │ total_discount │\n",
       "│   varchar    │        int128        │     double     │\n",
       "├──────────────┼──────────────────────┼────────────────┤\n",
       "│ Trek         │                 1839 │      526627.26 │\n",
       "│ Electra      │                 2612 │      138822.97 │\n",
       "│ Surly        │                  908 │      113628.76 │\n",
       "│ Sun Bicycles │                  731 │       39924.76 │\n",
       "│ Heller       │                  138 │       22339.63 │\n",
       "│ Haro         │                  331 │       21712.14 │\n",
       "│ Pure Cycles  │                  376 │       16687.66 │\n",
       "│ Ritchey      │                  118 │        9599.87 │\n",
       "│ Strider      │                   25 │         529.27 │\n",
       "└──────────────┴──────────────────────┴────────────────┘"
      ]
     },
     "execution_count": 15,
     "metadata": {},
     "output_type": "execute_result"
    }
   ],
   "source": [
    "query5 = '''\n",
    "WITH get_discount AS (\n",
    "SELECT oi.product_id, \n",
    "\tquantity, \n",
    "    oi.list_price, \n",
    "    discount, \n",
    "    p.brand_id, \n",
    "    brand_name,\n",
    "\tquantity * (oi.list_price * oi.discount) AS discount_in_usd\n",
    "FROM order_items oi\n",
    "JOIN products p\n",
    "\tON oi.product_id = p.product_id\n",
    "JOIN brands b\n",
    "\tON p.brand_id = b.brand_id\n",
    ")\n",
    "SELECT brand_name, \n",
    "\tSUM(quantity) AS total_quantity_sales, \n",
    "\tROUND(SUM(discount_in_usd), 2) AS total_discount\n",
    "FROM get_discount\n",
    "GROUP BY brand_name\n",
    "ORDER BY SUM(discount_in_usd) DESC\n",
    ";\n",
    "'''\n",
    "\n",
    "duckdb.sql(query5)"
   ]
  },
  {
   "cell_type": "markdown",
   "id": "52fb3074-88ef-43f0-965b-f609416934a2",
   "metadata": {},
   "source": [
    "### What is the average discount per category?"
   ]
  },
  {
   "cell_type": "code",
   "execution_count": 16,
   "id": "703befd9-b737-4bc8-84a5-d24cd7edee43",
   "metadata": {},
   "outputs": [
    {
     "data": {
      "text/plain": [
       "┌─────────────────────┬─────────────┬──────────────┬──────────────┬──────────────────┐\n",
       "│    category_name    │ total_sales │ min_discount │ max_discount │ average_discount │\n",
       "│       varchar       │    int64    │    double    │    double    │      double      │\n",
       "├─────────────────────┼─────────────┼──────────────┼──────────────┼──────────────────┤\n",
       "│ Road Bikes          │         374 │         37.5 │       2400.0 │           501.22 │\n",
       "│ Electric Bikes      │         212 │         78.0 │       2000.0 │           488.45 │\n",
       "│ Cyclocross Bicycles │         256 │        77.45 │       1600.0 │           347.12 │\n",
       "│ Mountain Bikes      │        1183 │         19.0 │       2120.0 │           266.86 │\n",
       "│ Comfort Bicycles    │         537 │        20.85 │        364.0 │            82.84 │\n",
       "│ Cruisers Bicycles   │        1378 │         13.5 │       1200.0 │            82.81 │\n",
       "│ Children Bicycles   │         782 │          5.5 │        196.0 │            45.65 │\n",
       "└─────────────────────┴─────────────┴──────────────┴──────────────┴──────────────────┘"
      ]
     },
     "execution_count": 16,
     "metadata": {},
     "output_type": "execute_result"
    }
   ],
   "source": [
    "query = '''\n",
    "WITH get_category_discount AS (\n",
    "SELECT \n",
    "\t(quantity * oi.list_price * discount) AS discount_usd,\n",
    "    category_name\n",
    "FROM order_items oi\n",
    "JOIN products p \n",
    "\tON oi.product_id = p.product_id\n",
    "JOIN categories cat\n",
    "\tON p.category_id = cat.category_id\n",
    ")\n",
    "SELECT category_name, \n",
    "    COUNT(*) AS total_sales,\n",
    "\tROUND(MIN(discount_usd), 2) AS min_discount,\n",
    "\tROUND(MAX(discount_usd), 2) AS max_discount,\n",
    "\tROUND(AVG(discount_usd), 2) AS average_discount\n",
    "FROM get_category_discount\n",
    "GROUP BY category_name\n",
    "ORDER BY average_discount DESC\n",
    ";\n",
    "\n",
    "'''\n",
    "\n",
    "duckdb.sql(query)"
   ]
  },
  {
   "cell_type": "markdown",
   "id": "0b7f5650-1968-401a-9ad3-e6f0e45310b6",
   "metadata": {},
   "source": [
    "## Advanced"
   ]
  },
  {
   "cell_type": "markdown",
   "id": "ac26a36e-c617-404f-bc81-b65280155d36",
   "metadata": {},
   "source": [
    "### Which product categories are most common in repeat orders?"
   ]
  },
  {
   "cell_type": "code",
   "execution_count": 17,
   "id": "3d14b434-d16a-42cc-b39b-47c3c2a3ea6c",
   "metadata": {},
   "outputs": [
    {
     "data": {
      "text/plain": [
       "┌─────────────────────┬────────────────────┐\n",
       "│    category_name    │ total_repeat_sales │\n",
       "│       varchar       │       int64        │\n",
       "├─────────────────────┼────────────────────┤\n",
       "│ Cruisers Bicycles   │                131 │\n",
       "│ Mountain Bikes      │                106 │\n",
       "│ Children Bicycles   │                 88 │\n",
       "│ Road Bikes          │                 73 │\n",
       "│ Comfort Bicycles    │                 50 │\n",
       "│ Electric Bikes      │                 45 │\n",
       "│ Cyclocross Bicycles │                 16 │\n",
       "└─────────────────────┴────────────────────┘"
      ]
     },
     "execution_count": 17,
     "metadata": {},
     "output_type": "execute_result"
    }
   ],
   "source": [
    "query = '''\n",
    "WITH get_row_num_order AS (\n",
    "SELECT \n",
    "\tcustomer_id, \n",
    "\torder_id,\n",
    "\torder_date,\n",
    "\tROW_NUMBER() OVER(PARTITION BY customer_id ORDER BY order_date) AS row_num_order\n",
    "FROM orders\n",
    "),\n",
    "get_repeat_categories AS (\n",
    "SELECT \n",
    "\tgrno.customer_id, \n",
    "\tgrno.order_id,\n",
    "    order_date,\n",
    "    category_name\n",
    "FROM get_row_num_order grno\n",
    "JOIN order_items oi\n",
    "\tON grno.order_id = oi.order_id\n",
    "JOIN products p\n",
    "\tON oi.product_id = p.product_id\n",
    "JOIN categories cat \n",
    "\tON p.category_id = cat.category_id\n",
    "WHERE row_num_order > 1\n",
    ")\n",
    "SELECT \n",
    "\tcategory_name,\n",
    "\tCOUNT(*) AS total_repeat_sales\n",
    "FROM get_repeat_categories\n",
    "GROUP BY category_name\n",
    "ORDER BY total_repeat_sales DESC\n",
    ";\n",
    "\n",
    "'''\n",
    "\n",
    "duckdb.sql(query)"
   ]
  },
  {
   "cell_type": "markdown",
   "id": "7f4738ea-0314-463d-bee6-eacc07d34a50",
   "metadata": {},
   "source": [
    "### Which products are frequently bought together?"
   ]
  },
  {
   "cell_type": "code",
   "execution_count": 18,
   "id": "13dd061d-f86a-40d1-89f6-1704e0eab230",
   "metadata": {},
   "outputs": [
    {
     "data": {
      "text/plain": [
       "┌───────────────────────────────────────────────┬───────────────────────────────────────────────┬────────────────────┐\n",
       "│                   product1                    │                   product2                    │ purchase_frequency │\n",
       "│                    varchar                    │                    varchar                    │       int64        │\n",
       "├───────────────────────────────────────────────┼───────────────────────────────────────────────┼────────────────────┤\n",
       "│ Electra Cruiser 1 (24-Inch) - 2016            │ Electra Girl's Hawaii 1 (16-inch) - 2015/2016 │                 27 │\n",
       "│ Electra Townie Original 21D - 2016            │ Electra Cruiser 1 (24-Inch) - 2016            │                 22 │\n",
       "│ Electra Girl's Hawaii 1 (16-inch) - 2015/2016 │ Electra Girl's Hawaii 1 (20-inch) - 2015/2016 │                 22 │\n",
       "│ Trek Slash 8 27.5 - 2016                      │ Electra Townie Original 21D - 2016            │                 22 │\n",
       "│ Electra Cruiser 1 (24-Inch) - 2016            │ Electra Girl's Hawaii 1 (20-inch) - 2015/2016 │                 21 │\n",
       "│ Electra Cruiser 1 (24-Inch) - 2016            │ Electra Townie Original 7D EQ - 2016          │                 19 │\n",
       "│ Heller Shagamaw Frame - 2016                  │ Electra Girl's Hawaii 1 (16-inch) - 2015/2016 │                 19 │\n",
       "│ Surly Straggler 650b - 2016                   │ Electra Townie Original 7D EQ - 2016          │                 19 │\n",
       "│ Ritchey Timberwolf Frameset - 2016            │ Electra Townie Original 21D - 2016            │                 18 │\n",
       "│ Electra Townie Original 21D - 2016            │ Electra Townie Original 7D EQ - 2016          │                 18 │\n",
       "│ Trek Slash 8 27.5 - 2016                      │ Electra Townie Original 7D EQ - 2016          │                 18 │\n",
       "│ Trek Fuel EX 8 29 - 2016                      │ Electra Townie Original 21D - 2016            │                 18 │\n",
       "│ Surly Straggler - 2016                        │ Electra Townie Original 21D - 2016            │                 18 │\n",
       "│ Surly Wednesday Frameset - 2016               │ Electra Townie Original 7D EQ - 2016          │                 18 │\n",
       "│ Trek Slash 8 27.5 - 2016                      │ Electra Cruiser 1 (24-Inch) - 2016            │                 18 │\n",
       "│ Surly Ice Cream Truck Frameset - 2016         │ Electra Cruiser 1 (24-Inch) - 2016            │                 18 │\n",
       "│ Trek Fuel EX 8 29 - 2016                      │ Electra Girl's Hawaii 1 (16-inch) - 2015/2016 │                 18 │\n",
       "│ Electra Townie Original 21D - 2016            │ Electra Townie Original 7D - 2015/2016        │                 18 │\n",
       "│ Surly Straggler 650b - 2016                   │ Electra Townie Original 21D - 2016            │                 18 │\n",
       "│ Surly Straggler 650b - 2016                   │ Electra Cruiser 1 (24-Inch) - 2016            │                 17 │\n",
       "├───────────────────────────────────────────────┴───────────────────────────────────────────────┴────────────────────┤\n",
       "│ 20 rows                                                                                                  3 columns │\n",
       "└────────────────────────────────────────────────────────────────────────────────────────────────────────────────────┘"
      ]
     },
     "execution_count": 18,
     "metadata": {},
     "output_type": "execute_result"
    }
   ],
   "source": [
    "query = '''\n",
    "SELECT \n",
    "    p1.product_name AS product1,\n",
    "    p2.product_name AS product2,\n",
    "    COUNT(*) AS purchase_frequency\n",
    "FROM order_items oi1\n",
    "JOIN order_items oi2\n",
    "\tON oi1.order_id = oi2.order_id\n",
    "    AND oi1.product_id < oi2.product_id\n",
    "JOIN products p1\n",
    "\tON oi1.product_id = p1.product_id\n",
    "JOIN products p2\n",
    "\tON oi2.product_id = p2.product_id\n",
    "GROUP BY p1.product_name, p2.product_name\n",
    "ORDER BY purchase_frequency DESC LIMIT 20\n",
    ";\n",
    "'''\n",
    "\n",
    "duckdb.sql(query)"
   ]
  }
 ],
 "metadata": {
  "kernelspec": {
   "display_name": "Python 3 (ipykernel)",
   "language": "python",
   "name": "python3"
  },
  "language_info": {
   "codemirror_mode": {
    "name": "ipython",
    "version": 3
   },
   "file_extension": ".py",
   "mimetype": "text/x-python",
   "name": "python",
   "nbconvert_exporter": "python",
   "pygments_lexer": "ipython3",
   "version": "3.12.10"
  }
 },
 "nbformat": 4,
 "nbformat_minor": 5
}
